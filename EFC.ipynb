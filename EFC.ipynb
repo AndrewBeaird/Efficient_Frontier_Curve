{
 "cells": [
  {
   "cell_type": "code",
   "execution_count": 68,
   "metadata": {},
   "outputs": [],
   "source": [
    "import matplotlib.pyplot as plt\n",
    "import pandas as pd\n",
    "import numpy as np\n",
    "\n",
    "#Import csv files\n",
    "CSCO = pd.read_csv(r'C:\\Users\\andre\\Desktop\\Python\\MPT\\CSCO.csv', parse_dates=['Date'], index_col='Date')\n",
    "IBM = pd.read_csv(r'C:\\Users\\andre\\Desktop\\Python\\MPT\\IBM.csv', parse_dates=['Date'], index_col='Date')\n",
    "INTC = pd.read_csv(r'C:\\Users\\andre\\Desktop\\Python\\MPT\\INTC.csv', parse_dates=['Date'], index_col='Date')\n",
    "MSFT = pd.read_csv(r'C:\\Users\\andre\\Desktop\\Python\\MPT\\MSFT.csv', parse_dates=['Date'], index_col='Date')\n",
    "DIA = pd.read_csv(r'C:\\Users\\andre\\Desktop\\Python\\MPT\\DIA.csv', parse_dates=['Date'], index_col='Date')\n",
    "\n",
    "#Drop unnecesary colomns\n",
    "CSCO = CSCO.drop(columns=['Open', 'High', 'Low', 'Vol.', 'Change %'])\n",
    "IBM = IBM.drop(columns=['Open', 'High', 'Low', 'Vol.', 'Change %'])\n",
    "INTC = INTC.drop(columns=['Open', 'High', 'Low', 'Vol.', 'Change %'])\n",
    "MSFT = MSFT.drop(columns=['Open', 'High', 'Low', 'Vol.', 'Change %'])\n",
    "DIA = DIA.drop(columns=['Open', 'High', 'Low', 'Vol.', 'Change %'])\n",
    "\n",
    "#Rename columns\n",
    "CSCO.columns = ['CSCO']\n",
    "IBM.columns = ['IBM']\n",
    "INTC.columns = ['INTC']\n",
    "MSFT.columns = ['MSFT']\n",
    "DIA.columns = ['DIA']"
   ]
  },
  {
   "cell_type": "code",
   "execution_count": 69,
   "metadata": {},
   "outputs": [
    {
     "name": "stdout",
     "output_type": "stream",
     "text": [
      "             CSCO     IBM   INTC    MSFT\n",
      "Date                                    \n",
      "2014-01-02  22.00  185.53  25.79   37.16\n",
      "2014-01-03  21.98  186.64  25.78   36.91\n",
      "2014-01-06  22.01  186.00  25.46   36.13\n",
      "2014-01-07  22.31  189.71  25.59   36.41\n",
      "2014-01-08  22.29  187.97  25.43   35.76\n",
      "...           ...     ...    ...     ...\n",
      "2018-12-24  40.28  107.57  43.59   94.13\n",
      "2018-12-26  42.47  111.39  46.19  100.56\n",
      "2018-12-27  42.91  113.78  46.36  101.18\n",
      "2018-12-28  42.77  113.03  46.75  100.39\n",
      "2018-12-31  43.33  113.67  46.93  101.57\n",
      "\n",
      "[1258 rows x 4 columns]\n"
     ]
    }
   ],
   "source": [
    "#Combine into single chart\n",
    "stocks = pd.concat([CSCO, IBM, INTC, MSFT], axis=1).dropna()\n",
    "print(stocks)\n"
   ]
  },
  {
   "cell_type": "code",
   "execution_count": 70,
   "metadata": {},
   "outputs": [
    {
     "name": "stdout",
     "output_type": "stream",
     "text": [
      "                CSCO       IBM      INTC      MSFT\n",
      "Date                                              \n",
      "2014-01-02       NaN       NaN       NaN       NaN\n",
      "2014-01-03 -0.000910  0.005965 -0.000388 -0.006750\n",
      "2014-01-06  0.001364 -0.003435 -0.012490 -0.021359\n",
      "2014-01-07  0.013538  0.019750  0.005093  0.007720\n",
      "2014-01-08 -0.000897 -0.009214 -0.006272 -0.018014\n",
      "...              ...       ...       ...       ...\n",
      "2018-12-24 -0.038237 -0.030848 -0.028273 -0.042635\n",
      "2018-12-26  0.052943  0.034896  0.057936  0.066078\n",
      "2018-12-27  0.010307  0.021229  0.003674  0.006147\n",
      "2018-12-28 -0.003268 -0.006613  0.008377 -0.007839\n",
      "2018-12-31  0.013008  0.005646  0.003843  0.011686\n",
      "\n",
      "[1258 rows x 4 columns]\n"
     ]
    }
   ],
   "source": [
    "#Find daily returns\n",
    "daily_returns = np.log(stocks)\n",
    "daily_returns = daily_returns.diff()\n",
    "print(daily_returns)"
   ]
  },
  {
   "cell_type": "code",
   "execution_count": 71,
   "metadata": {},
   "outputs": [
    {
     "name": "stdout",
     "output_type": "stream",
     "text": [
      "CSCO    0.135561\n",
      "IBM    -0.097983\n",
      "INTC    0.119734\n",
      "MSFT    0.201103\n",
      "dtype: float64\n",
      "[ 0.135561 -0.097983  0.119734  0.201103]\n"
     ]
    }
   ],
   "source": [
    "#Calculate average annual returns\n",
    "annual = daily_returns.sum(axis = 0)\n",
    "print(annual/5)\n",
    "\n",
    "#Create array with the average annual returns\n",
    "annual_average_returns = np.array([0.135561, -0.097983, 0.119734, 0.201103])\n",
    "print(annual_average_returns)"
   ]
  },
  {
   "cell_type": "code",
   "execution_count": 72,
   "metadata": {},
   "outputs": [
    {
     "name": "stdout",
     "output_type": "stream",
     "text": [
      "          CSCO       IBM      INTC      MSFT\n",
      "CSCO  0.000177  0.000080  0.000113  0.000112\n",
      "IBM   0.000080  0.000160  0.000083  0.000086\n",
      "INTC  0.000113  0.000083  0.000242  0.000131\n",
      "MSFT  0.000112  0.000086  0.000131  0.000212\n",
      "          CSCO       IBM      INTC      MSFT\n",
      "CSCO  0.044311  0.020104  0.028240  0.027941\n",
      "IBM   0.020104  0.040090  0.020685  0.021453\n",
      "INTC  0.028240  0.020685  0.060444  0.032736\n",
      "MSFT  0.027941  0.021453  0.032736  0.053066\n"
     ]
    }
   ],
   "source": [
    "# daily covariance of stocks (for each monthly period)\n",
    "covariances = daily_returns.cov()\n",
    "print(covariances)\n",
    "#convert to annual covariances\n",
    "covariances = covariances*250\n",
    "print(covariances)\n"
   ]
  },
  {
   "cell_type": "code",
   "execution_count": 73,
   "metadata": {},
   "outputs": [],
   "source": [
    "# get portfolio performances at each month\n",
    "portfolio_returns, portfolio_volatility, portfolio_weights = {}, {}, {}\n",
    "\n",
    "\n",
    "cov = covariances\n",
    "for single_portfolio in range(500000):\n",
    "    weights = np.random.random(4)\n",
    "    weights /= np.sum(weights)\n",
    "    \n",
    "    returns = np.dot(weights, annual_average_returns)\n",
    "    volatility = np.sqrt(np.dot(weights.T, np.dot(cov, weights)))\n",
    "    portfolio_returns.setdefault(single_portfolio, []).append(returns)\n",
    "    portfolio_volatility.setdefault(single_portfolio, []).append(volatility)\n",
    "    portfolio_weights.setdefault(single_portfolio, []).append(weights)"
   ]
  },
  {
   "cell_type": "code",
   "execution_count": 74,
   "metadata": {},
   "outputs": [
    {
     "data": {
      "image/png": "[encoded data removed]",
      "text/plain": [
       "<Figure size 432x288 with 1 Axes>"
      ]
     },
     "metadata": {
      "needs_background": "light"
     },
     "output_type": "display_data"
    }
   ],
   "source": [
    "data = {\"x\":[], \"y\":[], \"label\":[]}\n",
    "\n",
    "for label, coord in portfolio_volatility.items():\n",
    "    data[\"x\"].append(coord[0])\n",
    "\n",
    "for label, coord in portfolio_returns.items():\n",
    "    data[\"y\"].append(coord[0])\n",
    "\n",
    "\n",
    "# plot efficient frontier\n",
    "plt.scatter(data[\"x\"], data[\"y\"])\n",
    "\n",
    "plt.scatter(0.210344564, 0.135561, s=50, label='Cisco')\n",
    "plt.scatter(0.200050336, -0.097983, s=50, label='IBM')\n",
    "plt.scatter(0.24566, 0.119734, s=50, label='Intel')\n",
    "plt.scatter(0.230181392, 0.201103, s=50, label=\"Microsoft\")\n",
    "\n",
    "plt.title('Efficient Frontier Curve')\n",
    "plt.xlabel('Volatility')\n",
    "plt.ylabel('Returns')\n",
    "plt.show()"
   ]
  }
 ],
 "metadata": {
  "kernelspec": {
   "display_name": "Python 3",
   "language": "python",
   "name": "python3"
  },
  "language_info": {
   "codemirror_mode": {
    "name": "ipython",
    "version": 3
   },
   "file_extension": ".py",
   "mimetype": "text/x-python",
   "name": "python",
   "nbconvert_exporter": "python",
   "pygments_lexer": "ipython3",
   "version": "3.7.0"
  }
 },
 "nbformat": 4,
 "nbformat_minor": 4
}
